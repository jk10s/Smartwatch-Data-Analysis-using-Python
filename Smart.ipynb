{
 "cells": [
  {
   "cell_type": "markdown",
   "metadata": {
    "colab_type": "text",
    "id": "view-in-github"
   },
   "source": [
    "<a href=\"https://colab.research.google.com/github/jk10s/Smartwatch-Data-Analysis-using-Python/blob/main/Smart.ipynb\" target=\"_parent\"><img src=\"https://colab.research.google.com/assets/colab-badge.svg\" alt=\"Open In Colab\"/></a>"
   ]
  },
  {
   "cell_type": "code",
   "execution_count": 1,
   "metadata": {
    "colab": {
     "base_uri": "https://localhost:8080/",
     "height": 363
    },
    "id": "U61M_XUE1s3R",
    "outputId": "3c248849-93f7-4a1c-e1cb-ad9eedf91f6a"
   },
   "outputs": [
    {
     "name": "stdout",
     "output_type": "stream",
     "text": [
      "           Id ActivityDate  TotalSteps  TotalDistance  TrackerDistance  \\\n",
      "0  1503960366    4/12/2016       13162           8.50             8.50   \n",
      "1  1503960366    4/13/2016       10735           6.97             6.97   \n",
      "2  1503960366    4/14/2016       10460           6.74             6.74   \n",
      "3  1503960366    4/15/2016        9762           6.28             6.28   \n",
      "4  1503960366    4/16/2016       12669           8.16             8.16   \n",
      "\n",
      "   LoggedActivitiesDistance  VeryActiveDistance  ModeratelyActiveDistance  \\\n",
      "0                       0.0                1.88                      0.55   \n",
      "1                       0.0                1.57                      0.69   \n",
      "2                       0.0                2.44                      0.40   \n",
      "3                       0.0                2.14                      1.26   \n",
      "4                       0.0                2.71                      0.41   \n",
      "\n",
      "   LightActiveDistance  SedentaryActiveDistance  VeryActiveMinutes  \\\n",
      "0                 6.06                      0.0                 25   \n",
      "1                 4.71                      0.0                 21   \n",
      "2                 3.91                      0.0                 30   \n",
      "3                 2.83                      0.0                 29   \n",
      "4                 5.04                      0.0                 36   \n",
      "\n",
      "   FairlyActiveMinutes  LightlyActiveMinutes  SedentaryMinutes  Calories  \n",
      "0                   13                   328               728      1985  \n",
      "1                   19                   217               776      1797  \n",
      "2                   11                   181              1218      1776  \n",
      "3                   34                   209               726      1745  \n",
      "4                   10                   221               773      1863  \n"
     ]
    }
   ],
   "source": [
    "import pandas as pd\n",
    "import numpy as np\n",
    "import matplotlib.pyplot as plt\n",
    "import plotly.express as px\n",
    "import plotly.graph_objects as go\n",
    "\n",
    "data = pd.read_csv(\"dailyActivity_merged.csv\")\n",
    "print(data.head())"
   ]
  },
  {
   "cell_type": "code",
   "execution_count": 2,
   "metadata": {
    "id": "NljlCxgK1xCX"
   },
   "outputs": [
    {
     "name": "stdout",
     "output_type": "stream",
     "text": [
      "Id                          0\n",
      "ActivityDate                0\n",
      "TotalSteps                  0\n",
      "TotalDistance               0\n",
      "TrackerDistance             0\n",
      "LoggedActivitiesDistance    0\n",
      "VeryActiveDistance          0\n",
      "ModeratelyActiveDistance    0\n",
      "LightActiveDistance         0\n",
      "SedentaryActiveDistance     0\n",
      "VeryActiveMinutes           0\n",
      "FairlyActiveMinutes         0\n",
      "LightlyActiveMinutes        0\n",
      "SedentaryMinutes            0\n",
      "Calories                    0\n",
      "dtype: int64\n"
     ]
    }
   ],
   "source": [
    "print(data.isnull().sum())"
   ]
  },
  {
   "cell_type": "code",
   "execution_count": 3,
   "metadata": {},
   "outputs": [
    {
     "name": "stdout",
     "output_type": "stream",
     "text": [
      "<class 'pandas.core.frame.DataFrame'>\n",
      "RangeIndex: 940 entries, 0 to 939\n",
      "Data columns (total 15 columns):\n",
      " #   Column                    Non-Null Count  Dtype  \n",
      "---  ------                    --------------  -----  \n",
      " 0   Id                        940 non-null    int64  \n",
      " 1   ActivityDate              940 non-null    object \n",
      " 2   TotalSteps                940 non-null    int64  \n",
      " 3   TotalDistance             940 non-null    float64\n",
      " 4   TrackerDistance           940 non-null    float64\n",
      " 5   LoggedActivitiesDistance  940 non-null    float64\n",
      " 6   VeryActiveDistance        940 non-null    float64\n",
      " 7   ModeratelyActiveDistance  940 non-null    float64\n",
      " 8   LightActiveDistance       940 non-null    float64\n",
      " 9   SedentaryActiveDistance   940 non-null    float64\n",
      " 10  VeryActiveMinutes         940 non-null    int64  \n",
      " 11  FairlyActiveMinutes       940 non-null    int64  \n",
      " 12  LightlyActiveMinutes      940 non-null    int64  \n",
      " 13  SedentaryMinutes          940 non-null    int64  \n",
      " 14  Calories                  940 non-null    int64  \n",
      "dtypes: float64(7), int64(7), object(1)\n",
      "memory usage: 110.3+ KB\n",
      "None\n"
     ]
    }
   ],
   "source": [
    "print(data.info())"
   ]
  },
  {
   "cell_type": "code",
   "execution_count": 4,
   "metadata": {},
   "outputs": [
    {
     "name": "stdout",
     "output_type": "stream",
     "text": [
      "<class 'pandas.core.frame.DataFrame'>\n",
      "RangeIndex: 940 entries, 0 to 939\n",
      "Data columns (total 15 columns):\n",
      " #   Column                    Non-Null Count  Dtype         \n",
      "---  ------                    --------------  -----         \n",
      " 0   Id                        940 non-null    int64         \n",
      " 1   ActivityDate              940 non-null    datetime64[ns]\n",
      " 2   TotalSteps                940 non-null    int64         \n",
      " 3   TotalDistance             940 non-null    float64       \n",
      " 4   TrackerDistance           940 non-null    float64       \n",
      " 5   LoggedActivitiesDistance  940 non-null    float64       \n",
      " 6   VeryActiveDistance        940 non-null    float64       \n",
      " 7   ModeratelyActiveDistance  940 non-null    float64       \n",
      " 8   LightActiveDistance       940 non-null    float64       \n",
      " 9   SedentaryActiveDistance   940 non-null    float64       \n",
      " 10  VeryActiveMinutes         940 non-null    int64         \n",
      " 11  FairlyActiveMinutes       940 non-null    int64         \n",
      " 12  LightlyActiveMinutes      940 non-null    int64         \n",
      " 13  SedentaryMinutes          940 non-null    int64         \n",
      " 14  Calories                  940 non-null    int64         \n",
      "dtypes: datetime64[ns](1), float64(7), int64(7)\n",
      "memory usage: 110.3 KB\n",
      "None\n"
     ]
    }
   ],
   "source": [
    "# Changing datatype of ActivityDate\n",
    "data[\"ActivityDate\"] = pd.to_datetime(data[\"ActivityDate\"], \n",
    "                                      format=\"%m/%d/%Y\")\n",
    "print(data.info())"
   ]
  },
  {
   "cell_type": "code",
   "execution_count": 5,
   "metadata": {},
   "outputs": [
    {
     "name": "stdout",
     "output_type": "stream",
     "text": [
      "611    1436\n",
      "835     949\n",
      "225    1440\n",
      "366    1392\n",
      "609    1073\n",
      "Name: TotalMinutes, dtype: int64\n"
     ]
    }
   ],
   "source": [
    "data[\"TotalMinutes\"] = data[\"VeryActiveMinutes\"] + data[\"FairlyActiveMinutes\"] + data[\"LightlyActiveMinutes\"] + data[\"SedentaryMinutes\"]\n",
    "print(data[\"TotalMinutes\"].sample(5))"
   ]
  },
  {
   "cell_type": "code",
   "execution_count": 6,
   "metadata": {},
   "outputs": [
    {
     "name": "stdout",
     "output_type": "stream",
     "text": [
      "                 Id    TotalSteps  TotalDistance  TrackerDistance  \\\n",
      "count  9.400000e+02    940.000000     940.000000       940.000000   \n",
      "mean   4.855407e+09   7637.910638       5.489702         5.475351   \n",
      "std    2.424805e+09   5087.150742       3.924606         3.907276   \n",
      "min    1.503960e+09      0.000000       0.000000         0.000000   \n",
      "25%    2.320127e+09   3789.750000       2.620000         2.620000   \n",
      "50%    4.445115e+09   7405.500000       5.245000         5.245000   \n",
      "75%    6.962181e+09  10727.000000       7.712500         7.710000   \n",
      "max    8.877689e+09  36019.000000      28.030001        28.030001   \n",
      "\n",
      "       LoggedActivitiesDistance  VeryActiveDistance  ModeratelyActiveDistance  \\\n",
      "count                940.000000          940.000000                940.000000   \n",
      "mean                   0.108171            1.502681                  0.567543   \n",
      "std                    0.619897            2.658941                  0.883580   \n",
      "min                    0.000000            0.000000                  0.000000   \n",
      "25%                    0.000000            0.000000                  0.000000   \n",
      "50%                    0.000000            0.210000                  0.240000   \n",
      "75%                    0.000000            2.052500                  0.800000   \n",
      "max                    4.942142           21.920000                  6.480000   \n",
      "\n",
      "       LightActiveDistance  SedentaryActiveDistance  VeryActiveMinutes  \\\n",
      "count           940.000000               940.000000         940.000000   \n",
      "mean              3.340819                 0.001606          21.164894   \n",
      "std               2.040655                 0.007346          32.844803   \n",
      "min               0.000000                 0.000000           0.000000   \n",
      "25%               1.945000                 0.000000           0.000000   \n",
      "50%               3.365000                 0.000000           4.000000   \n",
      "75%               4.782500                 0.000000          32.000000   \n",
      "max              10.710000                 0.110000         210.000000   \n",
      "\n",
      "       FairlyActiveMinutes  LightlyActiveMinutes  SedentaryMinutes  \\\n",
      "count           940.000000            940.000000        940.000000   \n",
      "mean             13.564894            192.812766        991.210638   \n",
      "std              19.987404            109.174700        301.267437   \n",
      "min               0.000000              0.000000          0.000000   \n",
      "25%               0.000000            127.000000        729.750000   \n",
      "50%               6.000000            199.000000       1057.500000   \n",
      "75%              19.000000            264.000000       1229.500000   \n",
      "max             143.000000            518.000000       1440.000000   \n",
      "\n",
      "          Calories  TotalMinutes  \n",
      "count   940.000000    940.000000  \n",
      "mean   2303.609574   1218.753191  \n",
      "std     718.166862    265.931767  \n",
      "min       0.000000      2.000000  \n",
      "25%    1828.500000    989.750000  \n",
      "50%    2134.000000   1440.000000  \n",
      "75%    2793.250000   1440.000000  \n",
      "max    4900.000000   1440.000000  \n"
     ]
    }
   ],
   "source": [
    "print(data.describe())"
   ]
  },
  {
   "cell_type": "code",
   "execution_count": null,
   "metadata": {},
   "outputs": [],
   "source": []
  }
 ],
 "metadata": {
  "colab": {
   "authorship_tag": "ABX9TyORU3umXENqdxZIvwpFf+Zj",
   "include_colab_link": true,
   "provenance": []
  },
  "kernelspec": {
   "display_name": "Python 3 (ipykernel)",
   "language": "python",
   "name": "python3"
  },
  "language_info": {
   "codemirror_mode": {
    "name": "ipython",
    "version": 3
   },
   "file_extension": ".py",
   "mimetype": "text/x-python",
   "name": "python",
   "nbconvert_exporter": "python",
   "pygments_lexer": "ipython3",
   "version": "3.9.12"
  }
 },
 "nbformat": 4,
 "nbformat_minor": 1
}
